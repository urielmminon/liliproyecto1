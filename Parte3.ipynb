{
 "cells": [
  {
   "cell_type": "code",
   "execution_count": 8,
   "metadata": {},
   "outputs": [],
   "source": [
    "%matplotlib inline\n",
    "import findspark\n",
    "import os"
   ]
  },
  {
   "cell_type": "code",
   "execution_count": 9,
   "metadata": {},
   "outputs": [],
   "source": [
    "findspark.init(os.environ['SPARK_HOME'])"
   ]
  },
  {
   "cell_type": "code",
   "execution_count": 11,
   "metadata": {},
   "outputs": [],
   "source": [
    "import pyspark \n",
    "from pyspark.sql.session import SparkSession\n",
    "from pyspark.sql.functions import *  "
   ]
  },
  {
   "cell_type": "code",
   "execution_count": 13,
   "metadata": {},
   "outputs": [],
   "source": [
    "# creamos la sesión de spark\n",
    "spark = SparkSession\\\n",
    ".builder\\\n",
    ".appName(\"spark_Parte3\")\\\n",
    ".getOrCreate()"
   ]
  },
  {
   "cell_type": "markdown",
   "metadata": {},
   "source": [
    "# 3.1 Cargar el CSV en Spark"
   ]
  },
  {
   "cell_type": "code",
   "execution_count": 38,
   "metadata": {},
   "outputs": [],
   "source": [
    "profecoDf = spark.read.format(\"csv\")\\\n",
    "        .option(\"delimiter\", \"|\")\\\n",
    "        .option(\"header\",\"true\")\\\n",
    "        .option(\"inferSchema\", \"true\")\\\n",
    "        .load(\"data/prueba_final.csv\")"
   ]
  },
  {
   "cell_type": "code",
   "execution_count": 39,
   "metadata": {},
   "outputs": [
    {
     "data": {
      "text/plain": [
       "['producto',\n",
       " 'presentacion',\n",
       " 'marca',\n",
       " 'categoria',\n",
       " 'catalogo',\n",
       " 'precio',\n",
       " 'fecharegistro',\n",
       " 'cadenacomercial',\n",
       " 'giro',\n",
       " 'nombrecomercial',\n",
       " 'direccion',\n",
       " 'estado',\n",
       " 'municipio',\n",
       " 'latitud',\n",
       " 'longitud']"
      ]
     },
     "execution_count": 39,
     "metadata": {},
     "output_type": "execute_result"
    }
   ],
   "source": [
    "profecoDf.columns"
   ]
  },
  {
   "cell_type": "code",
   "execution_count": 40,
   "metadata": {},
   "outputs": [
    {
     "data": {
      "text/plain": [
       "9999"
      ]
     },
     "execution_count": 40,
     "metadata": {},
     "output_type": "execute_result"
    }
   ],
   "source": [
    "profecoDf.count()"
   ]
  },
  {
   "cell_type": "code",
   "execution_count": 41,
   "metadata": {},
   "outputs": [
    {
     "name": "stdout",
     "output_type": "stream",
     "text": [
      "+--------------------+--------------------+--------+----------------+----------------+------+-------------------+------------------+----------+--------------------+--------------------+----------------+--------------------+-------+---------+\n",
      "|            producto|        presentacion|   marca|       categoria|        catalogo|precio|      fecharegistro|   cadenacomercial|      giro|     nombrecomercial|           direccion|          estado|           municipio|latitud| longitud|\n",
      "+--------------------+--------------------+--------+----------------+----------------+------+-------------------+------------------+----------+--------------------+--------------------+----------------+--------------------+-------+---------+\n",
      "|cuaderno forma it...|96 hojas pasta du...|estrella|material escolar|utiles escolares|   259|2011-05-18 00:00:00|abastecedora lumen|papelerias|abastecedora lume...|cannes no 6 esq c...|distrito federal|tlalpan          ...|1929699|-99125417|\n",
      "|            crayones|caja 12 ceras jum...| crayola|material escolar|utiles escolares|   275|2011-05-18 00:00:00|abastecedora lumen|papelerias|abastecedora lume...|cannes no 6 esq c...|distrito federal|tlalpan          ...|1929699|-99125417|\n",
      "|            crayones|caja 12 ceras tam...| crayola|material escolar|utiles escolares|   139|2011-05-18 00:00:00|abastecedora lumen|papelerias|abastecedora lume...|cannes no 6 esq c...|distrito federal|tlalpan          ...|1929699|-99125417|\n",
      "|   colores de madera|caja 12 piezas la...|pincelin|material escolar|utiles escolares|   469|2011-05-18 00:00:00|abastecedora lumen|papelerias|abastecedora lume...|cannes no 6 esq c...|distrito federal|tlalpan          ...|1929699|-99125417|\n",
      "|         color largo|caja 36 piezas co...| crayola|material escolar|utiles escolares|   115|2011-05-18 00:00:00|abastecedora lumen|papelerias|abastecedora lume...|cannes no 6 esq c...|distrito federal|tlalpan          ...|1929699|-99125417|\n",
      "+--------------------+--------------------+--------+----------------+----------------+------+-------------------+------------------+----------+--------------------+--------------------+----------------+--------------------+-------+---------+\n",
      "only showing top 5 rows\n",
      "\n"
     ]
    }
   ],
   "source": [
    "profecoDf.show(5)"
   ]
  },
  {
   "cell_type": "code",
   "execution_count": 54,
   "metadata": {},
   "outputs": [
    {
     "data": {
      "text/plain": [
       "[('producto', 'string'),\n",
       " ('presentacion', 'string'),\n",
       " ('marca', 'string'),\n",
       " ('categoria', 'string'),\n",
       " ('catalogo', 'string'),\n",
       " ('precio', 'int'),\n",
       " ('fecharegistro', 'timestamp'),\n",
       " ('cadenacomercial', 'string'),\n",
       " ('giro', 'string'),\n",
       " ('nombrecomercial', 'string'),\n",
       " ('direccion', 'string'),\n",
       " ('estado', 'string'),\n",
       " ('municipio', 'string'),\n",
       " ('latitud', 'string'),\n",
       " ('longitud', 'string')]"
      ]
     },
     "execution_count": 54,
     "metadata": {},
     "output_type": "execute_result"
    }
   ],
   "source": [
    "profecoDf.dtypes"
   ]
  },
  {
   "cell_type": "markdown",
   "metadata": {},
   "source": [
    "# 3.2 Guardar como .parquet"
   ]
  },
  {
   "cell_type": "code",
   "execution_count": 42,
   "metadata": {},
   "outputs": [],
   "source": [
    "profecoDf.write.parquet('profecoFinal.parquet')"
   ]
  },
  {
   "cell_type": "markdown",
   "metadata": {},
   "source": [
    "# 3.3 Cargar parquet en Spark"
   ]
  },
  {
   "cell_type": "code",
   "execution_count": 47,
   "metadata": {},
   "outputs": [],
   "source": [
    "profecoDfParquet = spark.read.format('parquet')\\\n",
    "        .\n",
    "        .load(\"profecoFinal.parquet\")"
   ]
  },
  {
   "cell_type": "code",
   "execution_count": 49,
   "metadata": {},
   "outputs": [
    {
     "name": "stdout",
     "output_type": "stream",
     "text": [
      "+--------------------+--------------------+--------+----------------+----------------+------+-------------------+------------------+----------+--------------------+--------------------+----------------+--------------------+-------+---------+\n",
      "|            producto|        presentacion|   marca|       categoria|        catalogo|precio|      fecharegistro|   cadenacomercial|      giro|     nombrecomercial|           direccion|          estado|           municipio|latitud| longitud|\n",
      "+--------------------+--------------------+--------+----------------+----------------+------+-------------------+------------------+----------+--------------------+--------------------+----------------+--------------------+-------+---------+\n",
      "|cuaderno forma it...|96 hojas pasta du...|estrella|material escolar|utiles escolares|   259|2011-05-18 00:00:00|abastecedora lumen|papelerias|abastecedora lume...|cannes no 6 esq c...|distrito federal|tlalpan          ...|1929699|-99125417|\n",
      "+--------------------+--------------------+--------+----------------+----------------+------+-------------------+------------------+----------+--------------------+--------------------+----------------+--------------------+-------+---------+\n",
      "only showing top 1 row\n",
      "\n"
     ]
    }
   ],
   "source": [
    "profecoDfParquet.show(1)"
   ]
  },
  {
   "cell_type": "code",
   "execution_count": 51,
   "metadata": {},
   "outputs": [],
   "source": [
    "profecoDfParquet.createOrReplaceTempView(\"profecoDf\")"
   ]
  },
  {
   "cell_type": "code",
   "execution_count": 53,
   "metadata": {},
   "outputs": [
    {
     "name": "stdout",
     "output_type": "stream",
     "text": [
      "+--------------------+--------------------+--------------------+--------------------+-----------------+------+-------------------+------------------+--------------------+--------------------+--------------------+----------------+--------------------+-------+---------+\n",
      "|            producto|        presentacion|               marca|           categoria|         catalogo|precio|      fecharegistro|   cadenacomercial|                giro|     nombrecomercial|           direccion|          estado|           municipio|latitud| longitud|\n",
      "+--------------------+--------------------+--------------------+--------------------+-----------------+------+-------------------+------------------+--------------------+--------------------+--------------------+----------------+--------------------+-------+---------+\n",
      "|cuaderno forma it...|96 hojas pasta du...|            estrella|    material escolar| utiles escolares|   259|2011-05-18 00:00:00|abastecedora lumen|          papelerias|abastecedora lume...|cannes no 6 esq c...|distrito federal|tlalpan          ...|1929699|-99125417|\n",
      "|            crayones|caja 12 ceras jum...|             crayola|    material escolar| utiles escolares|   275|2011-05-18 00:00:00|abastecedora lumen|          papelerias|abastecedora lume...|cannes no 6 esq c...|distrito federal|tlalpan          ...|1929699|-99125417|\n",
      "|            crayones|caja 12 ceras tam...|             crayola|    material escolar| utiles escolares|   139|2011-05-18 00:00:00|abastecedora lumen|          papelerias|abastecedora lume...|cannes no 6 esq c...|distrito federal|tlalpan          ...|1929699|-99125417|\n",
      "|   colores de madera|caja 12 piezas la...|            pincelin|    material escolar| utiles escolares|   469|2011-05-18 00:00:00|abastecedora lumen|          papelerias|abastecedora lume...|cannes no 6 esq c...|distrito federal|tlalpan          ...|1929699|-99125417|\n",
      "|         color largo|caja 36 piezas co...|             crayola|    material escolar| utiles escolares|   115|2011-05-18 00:00:00|abastecedora lumen|          papelerias|abastecedora lume...|cannes no 6 esq c...|distrito federal|tlalpan          ...|1929699|-99125417|\n",
      "|           boligrafo|blister 3 piezas ...|     bic cristal gel|    material escolar| utiles escolares|   325|2011-05-18 00:00:00|abastecedora lumen|          papelerias|abastecedora lume...|cannes no 6 esq c...|distrito federal|tlalpan          ...|1929699|-99125417|\n",
      "|      cinta adhesiva|bolsa 1 pieza 12 ...|       scotch 3m 600|    material escolar| utiles escolares|     9|2011-05-18 00:00:00|abastecedora lumen|          papelerias|abastecedora lume...|cannes no 6 esq c...|distrito federal|tlalpan          ...|1929699|-99125417|\n",
      "|   colores de madera|caja 24 piezas la...|       kores kolores|    material escolar| utiles escolares|   959|2011-05-18 00:00:00|abastecedora lumen|          papelerias|abastecedora lume...|cannes no 6 esq c...|distrito federal|tlalpan          ...|1929699|-99125417|\n",
      "|            crayones|caja 24 ceras tam...|   paper mate carmen|    material escolar| utiles escolares|   232|2011-05-18 00:00:00|abastecedora lumen|          papelerias|abastecedora lume...|cannes no 6 esq c...|distrito federal|tlalpan          ...|1929699|-99125417|\n",
      "|  pan blanco bolillo|               pieza|                 s/m|                 pan|          basicos|    12|2011-01-10 00:00:00|comercial mexicana|tienda de autoser...|comercial mexican...|av lago de guadal...|          mexico|atizapan         ...|     na|       na|\n",
      "|    harina hot cakes|         caja 800 gr|pronto tradicionales|galletas pastas y...|          basicos|  2163|2011-01-10 00:00:00|comercial mexicana|tienda de autoser...|comercial mexican...|av lago de guadal...|          mexico|atizapan         ...|     na|       na|\n",
      "|     pasta para sopa|paquete 200 gr sp...|               vesta|galletas pastas y...|          basicos|   345|2011-01-10 00:00:00|comercial mexicana|tienda de autoser...|comercial mexican...|av lago de guadal...|          mexico|atizapan         ...|     na|       na|\n",
      "|     galletas dulces|caja 652 gr rican...|              gamesa|galletas pastas y...|          basicos|  2177|2011-01-10 00:00:00|comercial mexicana|tienda de autoser...|comercial mexican...|av lago de guadal...|          mexico|atizapan         ...|     na|       na|\n",
      "|     galletas dulces|paquete 280 gr po...|            marinela|galletas pastas y...|          basicos|    13|2011-01-10 00:00:00|comercial mexicana|tienda de autoser...|comercial mexican...|av lago de guadal...|          mexico|atizapan         ...|     na|       na|\n",
      "|     galletas dulces|caja 752 gr sandw...|             nabisco|galletas pastas y...|          basicos|  4197|2011-01-10 00:00:00|comercial mexicana|tienda de autoser...|comercial mexican...|av lago de guadal...|          mexico|atizapan         ...|     na|       na|\n",
      "|             shampoo|botella 400 ml pr...|    head & shoulders|arts para el cuid...|          basicos|   499|2011-01-10 00:00:00|comercial mexicana|tienda de autoser...|comercial mexican...|av lago de guadal...|          mexico|atizapan         ...|     na|       na|\n",
      "| horno de microondas|ms-1446 sqp o  ms...|                  lg| aparatos electricos|electrodomesticos|  1598|2011-01-10 00:00:00|comercial mexicana|tienda de autoser...|comercial mexican...|av lago de guadal...|          mexico|atizapan         ...|     na|       na|\n",
      "|acondicionador y ...|botella 300 ml fr...|             garnier|arts para el cuid...|          basicos|   399|2011-01-10 00:00:00|comercial mexicana|tienda de autoser...|comercial mexican...|av lago de guadal...|          mexico|atizapan         ...|     na|       na|\n",
      "|tinte para el cab...|                caja|       revitalique 4|arts para el cuid...|          basicos|    74|2011-01-10 00:00:00|comercial mexicana|tienda de autoser...|comercial mexican...|av lago de guadal...|          mexico|atizapan         ...|     na|       na|\n",
      "|tinte para el cab...|                caja|   wella koleston 40|arts para el cuid...|          basicos|   589|2011-01-10 00:00:00|comercial mexicana|tienda de autoser...|comercial mexican...|av lago de guadal...|          mexico|atizapan         ...|     na|       na|\n",
      "+--------------------+--------------------+--------------------+--------------------+-----------------+------+-------------------+------------------+--------------------+--------------------+--------------------+----------------+--------------------+-------+---------+\n",
      "only showing top 20 rows\n",
      "\n"
     ]
    }
   ],
   "source": [
    "spark.sql(\"SELECT * FROM profecoDf\").show()"
   ]
  },
  {
   "cell_type": "code",
   "execution_count": null,
   "metadata": {},
   "outputs": [],
   "source": []
  },
  {
   "cell_type": "code",
   "execution_count": null,
   "metadata": {},
   "outputs": [],
   "source": []
  },
  {
   "cell_type": "code",
   "execution_count": null,
   "metadata": {},
   "outputs": [],
   "source": []
  },
  {
   "cell_type": "code",
   "execution_count": null,
   "metadata": {},
   "outputs": [],
   "source": []
  },
  {
   "cell_type": "code",
   "execution_count": null,
   "metadata": {},
   "outputs": [],
   "source": []
  },
  {
   "cell_type": "code",
   "execution_count": null,
   "metadata": {},
   "outputs": [],
   "source": []
  }
 ],
 "metadata": {
  "kernelspec": {
   "display_name": "Python 3",
   "language": "python",
   "name": "python3"
  },
  "language_info": {
   "codemirror_mode": {
    "name": "ipython",
    "version": 3
   },
   "file_extension": ".py",
   "mimetype": "text/x-python",
   "name": "python",
   "nbconvert_exporter": "python",
   "pygments_lexer": "ipython3",
   "version": "3.7.2"
  }
 },
 "nbformat": 4,
 "nbformat_minor": 2
}
